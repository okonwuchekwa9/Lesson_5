{
 "cells": [
  {
   "cell_type": "markdown",
   "metadata": {
    "deletable": false,
    "editable": false,
    "nbgrader": {
     "cell_type": "markdown",
     "checksum": "861669d3aadf752ee237a135a2aca25e",
     "grade": false,
     "grade_id": "Intro_text",
     "locked": true,
     "schema_version": 3,
     "solution": false
    }
   },
   "source": [
    "## Problem 3 - Data analysis (*4 points*)\n",
    "\n",
    "In this problem we will explore our temperature data by comparing spring temperatures between Helsinki Kumpula and Rovaniemi. To do this we'll use some conditions to extract subsets of our data and then analyse these subsets using basic Pandas functions. Please perform the tasks below by writing your code into the codeblocks in each section.\n",
    "\n",
    "**Notice**: Closely follow the instructions! For example, you should be sure to use **exactly** the same variable names mentioned in the instructions because your answers will be automatically graded, and the tests that grade your answers rely on following the same formatting or variable naming as in the instructions.\n",
    "\n",
    "**Your score on this problem will be based on following criteria:**\n",
    "\n",
    "- Calculating the median temperatures for Helsinki Kumpula and Rovaniemi for the summer of 2017\n",
    "- Selecting temperatures for May and June 2017 in separate dataframes for each location\n",
    "- Printing out some summary values for each month (May, June) and location (Kumpula, Rovaniemi)\n",
    "- Including comments that explain what most lines in the code do\n",
    "- Answering a couple questions at the end of the problem\n",
    "- Uploading your notebook and data files to your GitHub repository for this week's exercise"
   ]
  },
  {
   "cell_type": "markdown",
   "metadata": {
    "deletable": false,
    "editable": false,
    "nbgrader": {
     "cell_type": "markdown",
     "checksum": "ff62ce9d296a1db67758cf613013863c",
     "grade": false,
     "grade_id": "cell-33c2d0518738c711",
     "locked": true,
     "schema_version": 3,
     "solution": false,
     "task": false
    }
   },
   "source": [
    "### Part 1 (*0 points*)\n",
    "\n",
    "First, you need to load the data from Problem 2.\n",
    "\n",
    "- Read in the csv files generated in Problem 2 to the variables `kumpula` and `rovaniemi`"
   ]
  },
  {
   "cell_type": "code",
   "execution_count": 4,
   "metadata": {},
   "outputs": [],
   "source": [
    "import pandas as pd"
   ]
  },
  {
   "cell_type": "code",
   "execution_count": 1,
   "metadata": {},
   "outputs": [
    {
     "data": {
      "text/plain": [
       "'C:\\\\Users\\\\BGP001\\\\Peter\\\\Lesson_5\\\\exercise-5-okonwuchekwa9'"
      ]
     },
     "execution_count": 1,
     "metadata": {},
     "output_type": "execute_result"
    }
   ],
   "source": [
    "pwd"
   ]
  },
  {
   "cell_type": "code",
   "execution_count": 2,
   "metadata": {},
   "outputs": [
    {
     "name": "stdout",
     "output_type": "stream",
     "text": [
      "C:\\Users\\BGP001\\Peter\\Lesson_5\\exercise-5-okonwuchekwa9\\data\n"
     ]
    }
   ],
   "source": [
    "cd data"
   ]
  },
  {
   "cell_type": "code",
   "execution_count": 5,
   "metadata": {
    "deletable": false,
    "nbgrader": {
     "cell_type": "code",
     "checksum": "deb603f4e6e03059689d01f3d8ca3044",
     "grade": false,
     "grade_id": "problem_3_ag_p1_read_data",
     "locked": false,
     "schema_version": 3,
     "solution": true
    }
   },
   "outputs": [],
   "source": [
    "kumpula = pd.read_csv('Kumpula_temps_May_Aug_2017.csv')\n",
    "rovaniemi = pd.read_csv('Rovaniemi_temps_May_Aug_2017.csv')\n",
    "\n",
    "# YOUR CODE HERE\n",
    "# Define file path\n",
    "#fp = '6153237444115dat.csv'\n",
    "#Read in data from the file\n",
    "#data = pd.read_csv(fp, na_values=['*', '**', '***', '****', '*****', '******'])\n",
    "#temp_data = pd.read_csv('kumpula-june-2016-w-metadata.txt', skiprows=8, usecols=['YEARMODA', 'TEMP'])\n"
   ]
  },
  {
   "cell_type": "code",
   "execution_count": 6,
   "metadata": {},
   "outputs": [
    {
     "name": "stdout",
     "output_type": "stream",
     "text": [
      "   Unnamed: 0   USAF  YR--MODAHRMN  TEMP  MAX  MIN  Celsius\n",
      "0           0  29980  201705010000  31.0  NaN  NaN    -0.56\n",
      "1           1  29980  201705010020  30.0  NaN  NaN    -1.11\n",
      "2           2  29980  201705010050  30.0  NaN  NaN    -1.11\n",
      "3           3  29980  201705010100  31.0  NaN  NaN    -0.56\n",
      "4           4  29980  201705010120  30.0  NaN  NaN    -1.11\n",
      "\n",
      "   Unnamed: 0   USAF  YR--MODAHRMN  TEMP  MAX  MIN  Celsius\n",
      "0        8770  29980  201705010000  37.0  NaN  NaN     2.78\n",
      "1        8771  29980  201705010100  37.0  NaN  NaN     2.78\n",
      "2        8772  29980  201705010200  37.0  NaN  NaN     2.78\n",
      "3        8773  29980  201705010300  37.0  NaN  NaN     2.78\n",
      "4        8774  29980  201705010400  39.0  NaN  NaN     3.89\n"
     ]
    }
   ],
   "source": [
    "print(kumpula.head())\n",
    "print('')\n",
    "print(rovaniemi.head())"
   ]
  },
  {
   "cell_type": "markdown",
   "metadata": {
    "deletable": false,
    "editable": false,
    "nbgrader": {
     "cell_type": "markdown",
     "checksum": "e4ee30d36f346836075c045ef8143c79",
     "grade": false,
     "grade_id": "cell-c25a29efbcf77ee7",
     "locked": true,
     "schema_version": 3,
     "solution": false,
     "task": false
    }
   },
   "source": [
    "### Part 2 (*1 points*)\n",
    "\n",
    "Next you can find some median temperature values for the period the data covers.\n",
    "\n",
    "- What was the median Celsius temperature during the observed period in:\n",
    "    - Helsinki Kumpula? (store the answer in a variable `kumpula_median`)\n",
    "    - Rovaniemi? (store the answer in a variable `rovaniemi_median`)"
   ]
  },
  {
   "cell_type": "code",
   "execution_count": 8,
   "metadata": {
    "deletable": false,
    "nbgrader": {
     "cell_type": "code",
     "checksum": "975856c4e5d377c3aaabec3af0fe53da",
     "grade": false,
     "grade_id": "problem_3_ag_p2_median",
     "locked": false,
     "schema_version": 3,
     "solution": true
    }
   },
   "outputs": [],
   "source": [
    "kumpula_median = kumpula['Celsius'].median()\n",
    "rovaniemi_median = rovaniemi['Celsius'].median()\n",
    "# YOUR CODE HERE\n"
   ]
  },
  {
   "cell_type": "code",
   "execution_count": 9,
   "metadata": {
    "deletable": false,
    "editable": false,
    "nbgrader": {
     "cell_type": "code",
     "checksum": "af1625653d727094aa878c6b5a7582ba",
     "grade": true,
     "grade_id": "problem_3_ag_p2_median_test",
     "locked": true,
     "points": 1,
     "schema_version": 3,
     "solution": false
    }
   },
   "outputs": [
    {
     "name": "stdout",
     "output_type": "stream",
     "text": [
      "Kumpula median:  11.11\n",
      "Rovaniemi median:  14.44\n"
     ]
    }
   ],
   "source": [
    "# Prints the median temperatures\n",
    "print(\"Kumpula median: \", kumpula_median)\n",
    "print(\"Rovaniemi median: \", rovaniemi_median)\n"
   ]
  },
  {
   "cell_type": "markdown",
   "metadata": {
    "deletable": false,
    "editable": false,
    "nbgrader": {
     "cell_type": "markdown",
     "checksum": "72c55344ad098bb58a9f6c3647d37677",
     "grade": false,
     "grade_id": "cell-6eda08b036b421d9",
     "locked": true,
     "schema_version": 3,
     "solution": false,
     "task": false
    }
   },
   "source": [
    "### Part 3 (*2 points*)\n",
    "\n",
    "The median temperatures above consider data from the entire summer (May-Aug), hence the differences might not be so clear. Let's now find out the mean temperatures from May and June 2017 in Kumpula and Rovaniemi.\n",
    "\n",
    "- From the `kumpula` and `rovaniemi` DataFrames, select the rows where values of the `YR--MODAHRMN` column are from May 2017\n",
    "    - Assign these selected rows into the variables `kumpula_may` and `rovaniemi_may` (you can check the [hints](https://geo-python.github.io/site/lessons/L5/exercise-5.html) for help!)\n",
    "- Repeat the procedure for the month of June and assign those values into variables to `kumpula_june` and `rovaniemi_june`"
   ]
  },
  {
   "cell_type": "code",
   "execution_count": 12,
   "metadata": {
    "deletable": false,
    "nbgrader": {
     "cell_type": "code",
     "checksum": "e658e48c072ada99e4541860ebaf0095",
     "grade": false,
     "grade_id": "problem_3_ag_p3_may",
     "locked": false,
     "schema_version": 3,
     "solution": true
    }
   },
   "outputs": [],
   "source": [
    "# Select the subset of the Kumpula and Rovaniemi data for the 5th and 6th month\n",
    "kumpula_may = kumpula.loc[0:2219]\n",
    "rovaniemi_may = rovaniemi.loc[0:740]\n",
    "#kumpula = selected.loc[0:8769]\n",
    "kumpula_june = kumpula.loc[2220:4346]\n",
    "rovaniemi_june = rovaniemi.loc[741:1454]\n",
    "\n",
    "# YOUR CODE HERE\n"
   ]
  },
  {
   "cell_type": "code",
   "execution_count": 13,
   "metadata": {},
   "outputs": [
    {
     "data": {
      "text/html": [
       "<div>\n",
       "<style scoped>\n",
       "    .dataframe tbody tr th:only-of-type {\n",
       "        vertical-align: middle;\n",
       "    }\n",
       "\n",
       "    .dataframe tbody tr th {\n",
       "        vertical-align: top;\n",
       "    }\n",
       "\n",
       "    .dataframe thead th {\n",
       "        text-align: right;\n",
       "    }\n",
       "</style>\n",
       "<table border=\"1\" class=\"dataframe\">\n",
       "  <thead>\n",
       "    <tr style=\"text-align: right;\">\n",
       "      <th></th>\n",
       "      <th>Unnamed: 0</th>\n",
       "      <th>USAF</th>\n",
       "      <th>YR--MODAHRMN</th>\n",
       "      <th>TEMP</th>\n",
       "      <th>MAX</th>\n",
       "      <th>MIN</th>\n",
       "      <th>Celsius</th>\n",
       "    </tr>\n",
       "  </thead>\n",
       "  <tbody>\n",
       "    <tr>\n",
       "      <th>0</th>\n",
       "      <td>0</td>\n",
       "      <td>29980</td>\n",
       "      <td>201705010000</td>\n",
       "      <td>31.0</td>\n",
       "      <td>NaN</td>\n",
       "      <td>NaN</td>\n",
       "      <td>-0.56</td>\n",
       "    </tr>\n",
       "    <tr>\n",
       "      <th>1</th>\n",
       "      <td>1</td>\n",
       "      <td>29980</td>\n",
       "      <td>201705010020</td>\n",
       "      <td>30.0</td>\n",
       "      <td>NaN</td>\n",
       "      <td>NaN</td>\n",
       "      <td>-1.11</td>\n",
       "    </tr>\n",
       "    <tr>\n",
       "      <th>2</th>\n",
       "      <td>2</td>\n",
       "      <td>29980</td>\n",
       "      <td>201705010050</td>\n",
       "      <td>30.0</td>\n",
       "      <td>NaN</td>\n",
       "      <td>NaN</td>\n",
       "      <td>-1.11</td>\n",
       "    </tr>\n",
       "    <tr>\n",
       "      <th>3</th>\n",
       "      <td>3</td>\n",
       "      <td>29980</td>\n",
       "      <td>201705010100</td>\n",
       "      <td>31.0</td>\n",
       "      <td>NaN</td>\n",
       "      <td>NaN</td>\n",
       "      <td>-0.56</td>\n",
       "    </tr>\n",
       "    <tr>\n",
       "      <th>4</th>\n",
       "      <td>4</td>\n",
       "      <td>29980</td>\n",
       "      <td>201705010120</td>\n",
       "      <td>30.0</td>\n",
       "      <td>NaN</td>\n",
       "      <td>NaN</td>\n",
       "      <td>-1.11</td>\n",
       "    </tr>\n",
       "    <tr>\n",
       "      <th>...</th>\n",
       "      <td>...</td>\n",
       "      <td>...</td>\n",
       "      <td>...</td>\n",
       "      <td>...</td>\n",
       "      <td>...</td>\n",
       "      <td>...</td>\n",
       "      <td>...</td>\n",
       "    </tr>\n",
       "    <tr>\n",
       "      <th>2215</th>\n",
       "      <td>2217</td>\n",
       "      <td>29980</td>\n",
       "      <td>201705312220</td>\n",
       "      <td>32.0</td>\n",
       "      <td>NaN</td>\n",
       "      <td>NaN</td>\n",
       "      <td>0.00</td>\n",
       "    </tr>\n",
       "    <tr>\n",
       "      <th>2216</th>\n",
       "      <td>2218</td>\n",
       "      <td>29980</td>\n",
       "      <td>201705312250</td>\n",
       "      <td>32.0</td>\n",
       "      <td>NaN</td>\n",
       "      <td>NaN</td>\n",
       "      <td>0.00</td>\n",
       "    </tr>\n",
       "    <tr>\n",
       "      <th>2217</th>\n",
       "      <td>2219</td>\n",
       "      <td>29980</td>\n",
       "      <td>201705312300</td>\n",
       "      <td>33.0</td>\n",
       "      <td>NaN</td>\n",
       "      <td>NaN</td>\n",
       "      <td>0.56</td>\n",
       "    </tr>\n",
       "    <tr>\n",
       "      <th>2218</th>\n",
       "      <td>2220</td>\n",
       "      <td>29980</td>\n",
       "      <td>201705312320</td>\n",
       "      <td>32.0</td>\n",
       "      <td>NaN</td>\n",
       "      <td>NaN</td>\n",
       "      <td>0.00</td>\n",
       "    </tr>\n",
       "    <tr>\n",
       "      <th>2219</th>\n",
       "      <td>2221</td>\n",
       "      <td>29980</td>\n",
       "      <td>201705312350</td>\n",
       "      <td>30.0</td>\n",
       "      <td>NaN</td>\n",
       "      <td>NaN</td>\n",
       "      <td>-1.11</td>\n",
       "    </tr>\n",
       "  </tbody>\n",
       "</table>\n",
       "<p>2220 rows × 7 columns</p>\n",
       "</div>"
      ],
      "text/plain": [
       "      Unnamed: 0   USAF  YR--MODAHRMN  TEMP  MAX  MIN  Celsius\n",
       "0              0  29980  201705010000  31.0  NaN  NaN    -0.56\n",
       "1              1  29980  201705010020  30.0  NaN  NaN    -1.11\n",
       "2              2  29980  201705010050  30.0  NaN  NaN    -1.11\n",
       "3              3  29980  201705010100  31.0  NaN  NaN    -0.56\n",
       "4              4  29980  201705010120  30.0  NaN  NaN    -1.11\n",
       "...          ...    ...           ...   ...  ...  ...      ...\n",
       "2215        2217  29980  201705312220  32.0  NaN  NaN     0.00\n",
       "2216        2218  29980  201705312250  32.0  NaN  NaN     0.00\n",
       "2217        2219  29980  201705312300  33.0  NaN  NaN     0.56\n",
       "2218        2220  29980  201705312320  32.0  NaN  NaN     0.00\n",
       "2219        2221  29980  201705312350  30.0  NaN  NaN    -1.11\n",
       "\n",
       "[2220 rows x 7 columns]"
      ]
     },
     "execution_count": 13,
     "metadata": {},
     "output_type": "execute_result"
    }
   ],
   "source": [
    "kumpula_may"
   ]
  },
  {
   "cell_type": "code",
   "execution_count": 14,
   "metadata": {},
   "outputs": [
    {
     "data": {
      "text/html": [
       "<div>\n",
       "<style scoped>\n",
       "    .dataframe tbody tr th:only-of-type {\n",
       "        vertical-align: middle;\n",
       "    }\n",
       "\n",
       "    .dataframe tbody tr th {\n",
       "        vertical-align: top;\n",
       "    }\n",
       "\n",
       "    .dataframe thead th {\n",
       "        text-align: right;\n",
       "    }\n",
       "</style>\n",
       "<table border=\"1\" class=\"dataframe\">\n",
       "  <thead>\n",
       "    <tr style=\"text-align: right;\">\n",
       "      <th></th>\n",
       "      <th>Unnamed: 0</th>\n",
       "      <th>USAF</th>\n",
       "      <th>YR--MODAHRMN</th>\n",
       "      <th>TEMP</th>\n",
       "      <th>MAX</th>\n",
       "      <th>MIN</th>\n",
       "      <th>Celsius</th>\n",
       "    </tr>\n",
       "  </thead>\n",
       "  <tbody>\n",
       "    <tr>\n",
       "      <th>0</th>\n",
       "      <td>8770</td>\n",
       "      <td>29980</td>\n",
       "      <td>201705010000</td>\n",
       "      <td>37.0</td>\n",
       "      <td>NaN</td>\n",
       "      <td>NaN</td>\n",
       "      <td>2.78</td>\n",
       "    </tr>\n",
       "    <tr>\n",
       "      <th>1</th>\n",
       "      <td>8771</td>\n",
       "      <td>29980</td>\n",
       "      <td>201705010100</td>\n",
       "      <td>37.0</td>\n",
       "      <td>NaN</td>\n",
       "      <td>NaN</td>\n",
       "      <td>2.78</td>\n",
       "    </tr>\n",
       "    <tr>\n",
       "      <th>2</th>\n",
       "      <td>8772</td>\n",
       "      <td>29980</td>\n",
       "      <td>201705010200</td>\n",
       "      <td>37.0</td>\n",
       "      <td>NaN</td>\n",
       "      <td>NaN</td>\n",
       "      <td>2.78</td>\n",
       "    </tr>\n",
       "    <tr>\n",
       "      <th>3</th>\n",
       "      <td>8773</td>\n",
       "      <td>29980</td>\n",
       "      <td>201705010300</td>\n",
       "      <td>37.0</td>\n",
       "      <td>NaN</td>\n",
       "      <td>NaN</td>\n",
       "      <td>2.78</td>\n",
       "    </tr>\n",
       "    <tr>\n",
       "      <th>4</th>\n",
       "      <td>8774</td>\n",
       "      <td>29980</td>\n",
       "      <td>201705010400</td>\n",
       "      <td>39.0</td>\n",
       "      <td>NaN</td>\n",
       "      <td>NaN</td>\n",
       "      <td>3.89</td>\n",
       "    </tr>\n",
       "    <tr>\n",
       "      <th>...</th>\n",
       "      <td>...</td>\n",
       "      <td>...</td>\n",
       "      <td>...</td>\n",
       "      <td>...</td>\n",
       "      <td>...</td>\n",
       "      <td>...</td>\n",
       "      <td>...</td>\n",
       "    </tr>\n",
       "    <tr>\n",
       "      <th>736</th>\n",
       "      <td>9506</td>\n",
       "      <td>29980</td>\n",
       "      <td>201705311900</td>\n",
       "      <td>51.0</td>\n",
       "      <td>NaN</td>\n",
       "      <td>NaN</td>\n",
       "      <td>10.56</td>\n",
       "    </tr>\n",
       "    <tr>\n",
       "      <th>737</th>\n",
       "      <td>9507</td>\n",
       "      <td>29980</td>\n",
       "      <td>201705312000</td>\n",
       "      <td>50.0</td>\n",
       "      <td>NaN</td>\n",
       "      <td>NaN</td>\n",
       "      <td>10.00</td>\n",
       "    </tr>\n",
       "    <tr>\n",
       "      <th>738</th>\n",
       "      <td>9508</td>\n",
       "      <td>29980</td>\n",
       "      <td>201705312100</td>\n",
       "      <td>47.0</td>\n",
       "      <td>NaN</td>\n",
       "      <td>NaN</td>\n",
       "      <td>8.33</td>\n",
       "    </tr>\n",
       "    <tr>\n",
       "      <th>739</th>\n",
       "      <td>9509</td>\n",
       "      <td>29980</td>\n",
       "      <td>201705312200</td>\n",
       "      <td>44.0</td>\n",
       "      <td>NaN</td>\n",
       "      <td>NaN</td>\n",
       "      <td>6.67</td>\n",
       "    </tr>\n",
       "    <tr>\n",
       "      <th>740</th>\n",
       "      <td>9510</td>\n",
       "      <td>29980</td>\n",
       "      <td>201705312300</td>\n",
       "      <td>43.0</td>\n",
       "      <td>NaN</td>\n",
       "      <td>NaN</td>\n",
       "      <td>6.11</td>\n",
       "    </tr>\n",
       "  </tbody>\n",
       "</table>\n",
       "<p>741 rows × 7 columns</p>\n",
       "</div>"
      ],
      "text/plain": [
       "     Unnamed: 0   USAF  YR--MODAHRMN  TEMP  MAX  MIN  Celsius\n",
       "0          8770  29980  201705010000  37.0  NaN  NaN     2.78\n",
       "1          8771  29980  201705010100  37.0  NaN  NaN     2.78\n",
       "2          8772  29980  201705010200  37.0  NaN  NaN     2.78\n",
       "3          8773  29980  201705010300  37.0  NaN  NaN     2.78\n",
       "4          8774  29980  201705010400  39.0  NaN  NaN     3.89\n",
       "..          ...    ...           ...   ...  ...  ...      ...\n",
       "736        9506  29980  201705311900  51.0  NaN  NaN    10.56\n",
       "737        9507  29980  201705312000  50.0  NaN  NaN    10.00\n",
       "738        9508  29980  201705312100  47.0  NaN  NaN     8.33\n",
       "739        9509  29980  201705312200  44.0  NaN  NaN     6.67\n",
       "740        9510  29980  201705312300  43.0  NaN  NaN     6.11\n",
       "\n",
       "[741 rows x 7 columns]"
      ]
     },
     "execution_count": 14,
     "metadata": {},
     "output_type": "execute_result"
    }
   ],
   "source": [
    "rovaniemi_may"
   ]
  },
  {
   "cell_type": "code",
   "execution_count": 15,
   "metadata": {},
   "outputs": [
    {
     "data": {
      "text/html": [
       "<div>\n",
       "<style scoped>\n",
       "    .dataframe tbody tr th:only-of-type {\n",
       "        vertical-align: middle;\n",
       "    }\n",
       "\n",
       "    .dataframe tbody tr th {\n",
       "        vertical-align: top;\n",
       "    }\n",
       "\n",
       "    .dataframe thead th {\n",
       "        text-align: right;\n",
       "    }\n",
       "</style>\n",
       "<table border=\"1\" class=\"dataframe\">\n",
       "  <thead>\n",
       "    <tr style=\"text-align: right;\">\n",
       "      <th></th>\n",
       "      <th>Unnamed: 0</th>\n",
       "      <th>USAF</th>\n",
       "      <th>YR--MODAHRMN</th>\n",
       "      <th>TEMP</th>\n",
       "      <th>MAX</th>\n",
       "      <th>MIN</th>\n",
       "      <th>Celsius</th>\n",
       "    </tr>\n",
       "  </thead>\n",
       "  <tbody>\n",
       "    <tr>\n",
       "      <th>2220</th>\n",
       "      <td>2222</td>\n",
       "      <td>29980</td>\n",
       "      <td>201706010000</td>\n",
       "      <td>32.0</td>\n",
       "      <td>NaN</td>\n",
       "      <td>NaN</td>\n",
       "      <td>0.00</td>\n",
       "    </tr>\n",
       "    <tr>\n",
       "      <th>2221</th>\n",
       "      <td>2223</td>\n",
       "      <td>29980</td>\n",
       "      <td>201706010020</td>\n",
       "      <td>30.0</td>\n",
       "      <td>NaN</td>\n",
       "      <td>NaN</td>\n",
       "      <td>-1.11</td>\n",
       "    </tr>\n",
       "    <tr>\n",
       "      <th>2222</th>\n",
       "      <td>2224</td>\n",
       "      <td>29980</td>\n",
       "      <td>201706010050</td>\n",
       "      <td>30.0</td>\n",
       "      <td>NaN</td>\n",
       "      <td>NaN</td>\n",
       "      <td>-1.11</td>\n",
       "    </tr>\n",
       "    <tr>\n",
       "      <th>2223</th>\n",
       "      <td>2225</td>\n",
       "      <td>29980</td>\n",
       "      <td>201706010100</td>\n",
       "      <td>31.0</td>\n",
       "      <td>NaN</td>\n",
       "      <td>NaN</td>\n",
       "      <td>-0.56</td>\n",
       "    </tr>\n",
       "    <tr>\n",
       "      <th>2224</th>\n",
       "      <td>2226</td>\n",
       "      <td>29980</td>\n",
       "      <td>201706010120</td>\n",
       "      <td>30.0</td>\n",
       "      <td>NaN</td>\n",
       "      <td>NaN</td>\n",
       "      <td>-1.11</td>\n",
       "    </tr>\n",
       "    <tr>\n",
       "      <th>...</th>\n",
       "      <td>...</td>\n",
       "      <td>...</td>\n",
       "      <td>...</td>\n",
       "      <td>...</td>\n",
       "      <td>...</td>\n",
       "      <td>...</td>\n",
       "      <td>...</td>\n",
       "    </tr>\n",
       "    <tr>\n",
       "      <th>4342</th>\n",
       "      <td>4344</td>\n",
       "      <td>29980</td>\n",
       "      <td>201706302220</td>\n",
       "      <td>57.0</td>\n",
       "      <td>NaN</td>\n",
       "      <td>NaN</td>\n",
       "      <td>13.89</td>\n",
       "    </tr>\n",
       "    <tr>\n",
       "      <th>4343</th>\n",
       "      <td>4345</td>\n",
       "      <td>29980</td>\n",
       "      <td>201706302250</td>\n",
       "      <td>57.0</td>\n",
       "      <td>NaN</td>\n",
       "      <td>NaN</td>\n",
       "      <td>13.89</td>\n",
       "    </tr>\n",
       "    <tr>\n",
       "      <th>4344</th>\n",
       "      <td>4346</td>\n",
       "      <td>29980</td>\n",
       "      <td>201706302300</td>\n",
       "      <td>56.0</td>\n",
       "      <td>NaN</td>\n",
       "      <td>NaN</td>\n",
       "      <td>13.33</td>\n",
       "    </tr>\n",
       "    <tr>\n",
       "      <th>4345</th>\n",
       "      <td>4347</td>\n",
       "      <td>29980</td>\n",
       "      <td>201706302320</td>\n",
       "      <td>57.0</td>\n",
       "      <td>NaN</td>\n",
       "      <td>NaN</td>\n",
       "      <td>13.89</td>\n",
       "    </tr>\n",
       "    <tr>\n",
       "      <th>4346</th>\n",
       "      <td>4348</td>\n",
       "      <td>29980</td>\n",
       "      <td>201706302350</td>\n",
       "      <td>57.0</td>\n",
       "      <td>NaN</td>\n",
       "      <td>NaN</td>\n",
       "      <td>13.89</td>\n",
       "    </tr>\n",
       "  </tbody>\n",
       "</table>\n",
       "<p>2127 rows × 7 columns</p>\n",
       "</div>"
      ],
      "text/plain": [
       "      Unnamed: 0   USAF  YR--MODAHRMN  TEMP  MAX  MIN  Celsius\n",
       "2220        2222  29980  201706010000  32.0  NaN  NaN     0.00\n",
       "2221        2223  29980  201706010020  30.0  NaN  NaN    -1.11\n",
       "2222        2224  29980  201706010050  30.0  NaN  NaN    -1.11\n",
       "2223        2225  29980  201706010100  31.0  NaN  NaN    -0.56\n",
       "2224        2226  29980  201706010120  30.0  NaN  NaN    -1.11\n",
       "...          ...    ...           ...   ...  ...  ...      ...\n",
       "4342        4344  29980  201706302220  57.0  NaN  NaN    13.89\n",
       "4343        4345  29980  201706302250  57.0  NaN  NaN    13.89\n",
       "4344        4346  29980  201706302300  56.0  NaN  NaN    13.33\n",
       "4345        4347  29980  201706302320  57.0  NaN  NaN    13.89\n",
       "4346        4348  29980  201706302350  57.0  NaN  NaN    13.89\n",
       "\n",
       "[2127 rows x 7 columns]"
      ]
     },
     "execution_count": 15,
     "metadata": {},
     "output_type": "execute_result"
    }
   ],
   "source": [
    "kumpula_june"
   ]
  },
  {
   "cell_type": "code",
   "execution_count": 16,
   "metadata": {},
   "outputs": [
    {
     "data": {
      "text/html": [
       "<div>\n",
       "<style scoped>\n",
       "    .dataframe tbody tr th:only-of-type {\n",
       "        vertical-align: middle;\n",
       "    }\n",
       "\n",
       "    .dataframe tbody tr th {\n",
       "        vertical-align: top;\n",
       "    }\n",
       "\n",
       "    .dataframe thead th {\n",
       "        text-align: right;\n",
       "    }\n",
       "</style>\n",
       "<table border=\"1\" class=\"dataframe\">\n",
       "  <thead>\n",
       "    <tr style=\"text-align: right;\">\n",
       "      <th></th>\n",
       "      <th>Unnamed: 0</th>\n",
       "      <th>USAF</th>\n",
       "      <th>YR--MODAHRMN</th>\n",
       "      <th>TEMP</th>\n",
       "      <th>MAX</th>\n",
       "      <th>MIN</th>\n",
       "      <th>Celsius</th>\n",
       "    </tr>\n",
       "  </thead>\n",
       "  <tbody>\n",
       "    <tr>\n",
       "      <th>741</th>\n",
       "      <td>9511</td>\n",
       "      <td>29980</td>\n",
       "      <td>201706010000</td>\n",
       "      <td>42.0</td>\n",
       "      <td>NaN</td>\n",
       "      <td>NaN</td>\n",
       "      <td>5.56</td>\n",
       "    </tr>\n",
       "    <tr>\n",
       "      <th>742</th>\n",
       "      <td>9512</td>\n",
       "      <td>29980</td>\n",
       "      <td>201706010100</td>\n",
       "      <td>40.0</td>\n",
       "      <td>NaN</td>\n",
       "      <td>NaN</td>\n",
       "      <td>4.44</td>\n",
       "    </tr>\n",
       "    <tr>\n",
       "      <th>743</th>\n",
       "      <td>9513</td>\n",
       "      <td>29980</td>\n",
       "      <td>201706010200</td>\n",
       "      <td>40.0</td>\n",
       "      <td>NaN</td>\n",
       "      <td>NaN</td>\n",
       "      <td>4.44</td>\n",
       "    </tr>\n",
       "    <tr>\n",
       "      <th>744</th>\n",
       "      <td>9514</td>\n",
       "      <td>29980</td>\n",
       "      <td>201706010300</td>\n",
       "      <td>41.0</td>\n",
       "      <td>NaN</td>\n",
       "      <td>NaN</td>\n",
       "      <td>5.00</td>\n",
       "    </tr>\n",
       "    <tr>\n",
       "      <th>745</th>\n",
       "      <td>9515</td>\n",
       "      <td>29980</td>\n",
       "      <td>201706010400</td>\n",
       "      <td>44.0</td>\n",
       "      <td>NaN</td>\n",
       "      <td>NaN</td>\n",
       "      <td>6.67</td>\n",
       "    </tr>\n",
       "    <tr>\n",
       "      <th>...</th>\n",
       "      <td>...</td>\n",
       "      <td>...</td>\n",
       "      <td>...</td>\n",
       "      <td>...</td>\n",
       "      <td>...</td>\n",
       "      <td>...</td>\n",
       "      <td>...</td>\n",
       "    </tr>\n",
       "    <tr>\n",
       "      <th>1450</th>\n",
       "      <td>10220</td>\n",
       "      <td>29980</td>\n",
       "      <td>201706301900</td>\n",
       "      <td>65.0</td>\n",
       "      <td>NaN</td>\n",
       "      <td>NaN</td>\n",
       "      <td>18.33</td>\n",
       "    </tr>\n",
       "    <tr>\n",
       "      <th>1451</th>\n",
       "      <td>10221</td>\n",
       "      <td>29980</td>\n",
       "      <td>201706302000</td>\n",
       "      <td>61.0</td>\n",
       "      <td>NaN</td>\n",
       "      <td>NaN</td>\n",
       "      <td>16.11</td>\n",
       "    </tr>\n",
       "    <tr>\n",
       "      <th>1452</th>\n",
       "      <td>10222</td>\n",
       "      <td>29980</td>\n",
       "      <td>201706302100</td>\n",
       "      <td>63.0</td>\n",
       "      <td>NaN</td>\n",
       "      <td>NaN</td>\n",
       "      <td>17.22</td>\n",
       "    </tr>\n",
       "    <tr>\n",
       "      <th>1453</th>\n",
       "      <td>10223</td>\n",
       "      <td>29980</td>\n",
       "      <td>201706302200</td>\n",
       "      <td>62.0</td>\n",
       "      <td>NaN</td>\n",
       "      <td>NaN</td>\n",
       "      <td>16.67</td>\n",
       "    </tr>\n",
       "    <tr>\n",
       "      <th>1454</th>\n",
       "      <td>10224</td>\n",
       "      <td>29980</td>\n",
       "      <td>201706302300</td>\n",
       "      <td>61.0</td>\n",
       "      <td>NaN</td>\n",
       "      <td>NaN</td>\n",
       "      <td>16.11</td>\n",
       "    </tr>\n",
       "  </tbody>\n",
       "</table>\n",
       "<p>714 rows × 7 columns</p>\n",
       "</div>"
      ],
      "text/plain": [
       "      Unnamed: 0   USAF  YR--MODAHRMN  TEMP  MAX  MIN  Celsius\n",
       "741         9511  29980  201706010000  42.0  NaN  NaN     5.56\n",
       "742         9512  29980  201706010100  40.0  NaN  NaN     4.44\n",
       "743         9513  29980  201706010200  40.0  NaN  NaN     4.44\n",
       "744         9514  29980  201706010300  41.0  NaN  NaN     5.00\n",
       "745         9515  29980  201706010400  44.0  NaN  NaN     6.67\n",
       "...          ...    ...           ...   ...  ...  ...      ...\n",
       "1450       10220  29980  201706301900  65.0  NaN  NaN    18.33\n",
       "1451       10221  29980  201706302000  61.0  NaN  NaN    16.11\n",
       "1452       10222  29980  201706302100  63.0  NaN  NaN    17.22\n",
       "1453       10223  29980  201706302200  62.0  NaN  NaN    16.67\n",
       "1454       10224  29980  201706302300  61.0  NaN  NaN    16.11\n",
       "\n",
       "[714 rows x 7 columns]"
      ]
     },
     "execution_count": 16,
     "metadata": {},
     "output_type": "execute_result"
    }
   ],
   "source": [
    "rovaniemi_june"
   ]
  },
  {
   "cell_type": "markdown",
   "metadata": {
    "deletable": false,
    "editable": false,
    "nbgrader": {
     "cell_type": "markdown",
     "checksum": "ced113a7a44f6c3bc88de58a3dc62056",
     "grade": false,
     "grade_id": "cell-c20a16ae3d1442cb",
     "locked": true,
     "schema_version": 3,
     "solution": false,
     "task": false
    }
   },
   "source": [
    "Check that the subsets look ok:"
   ]
  },
  {
   "cell_type": "code",
   "execution_count": 17,
   "metadata": {
    "deletable": false,
    "editable": false,
    "nbgrader": {
     "cell_type": "code",
     "checksum": "385c9e1f2b1a7db7b05cf7e3594a4271",
     "grade": true,
     "grade_id": "problem_3_ag_p3_Kumpula_may_test",
     "locked": true,
     "points": 0.5,
     "schema_version": 3,
     "solution": false
    }
   },
   "outputs": [
    {
     "name": "stdout",
     "output_type": "stream",
     "text": [
      "First values in May, Kumpula:\n",
      "    Unnamed: 0   USAF  YR--MODAHRMN  TEMP  MAX  MIN  Celsius\n",
      "0           0  29980  201705010000  31.0  NaN  NaN    -0.56\n",
      "1           1  29980  201705010020  30.0  NaN  NaN    -1.11\n",
      "2           2  29980  201705010050  30.0  NaN  NaN    -1.11\n",
      "3           3  29980  201705010100  31.0  NaN  NaN    -0.56\n",
      "4           4  29980  201705010120  30.0  NaN  NaN    -1.11\n",
      "\n",
      "Last values in May, Kumpula:\n",
      "       Unnamed: 0   USAF  YR--MODAHRMN  TEMP  MAX  MIN  Celsius\n",
      "2215        2217  29980  201705312220  32.0  NaN  NaN     0.00\n",
      "2216        2218  29980  201705312250  32.0  NaN  NaN     0.00\n",
      "2217        2219  29980  201705312300  33.0  NaN  NaN     0.56\n",
      "2218        2220  29980  201705312320  32.0  NaN  NaN     0.00\n",
      "2219        2221  29980  201705312350  30.0  NaN  NaN    -1.11\n"
     ]
    }
   ],
   "source": [
    "print(\"First values in May, Kumpula:\\n\", kumpula_may.head())\n",
    "print(\"\\nLast values in May, Kumpula:\\n\", kumpula_may.tail())"
   ]
  },
  {
   "cell_type": "code",
   "execution_count": 18,
   "metadata": {
    "deletable": false,
    "editable": false,
    "nbgrader": {
     "cell_type": "code",
     "checksum": "88e98aa625e24cd68ede4b6f1e4adea6",
     "grade": true,
     "grade_id": "problem_3_ag_p3_Kumpula_june_test",
     "locked": true,
     "points": 0.5,
     "schema_version": 3,
     "solution": false,
     "task": false
    }
   },
   "outputs": [
    {
     "name": "stdout",
     "output_type": "stream",
     "text": [
      "First values in June, Kumpula:\n",
      "       Unnamed: 0   USAF  YR--MODAHRMN  TEMP  MAX  MIN  Celsius\n",
      "2220        2222  29980  201706010000  32.0  NaN  NaN     0.00\n",
      "2221        2223  29980  201706010020  30.0  NaN  NaN    -1.11\n",
      "2222        2224  29980  201706010050  30.0  NaN  NaN    -1.11\n",
      "2223        2225  29980  201706010100  31.0  NaN  NaN    -0.56\n",
      "2224        2226  29980  201706010120  30.0  NaN  NaN    -1.11\n",
      "\n",
      "Last values in June, Kumpula:\n",
      "       Unnamed: 0   USAF  YR--MODAHRMN  TEMP  MAX  MIN  Celsius\n",
      "4342        4344  29980  201706302220  57.0  NaN  NaN    13.89\n",
      "4343        4345  29980  201706302250  57.0  NaN  NaN    13.89\n",
      "4344        4346  29980  201706302300  56.0  NaN  NaN    13.33\n",
      "4345        4347  29980  201706302320  57.0  NaN  NaN    13.89\n",
      "4346        4348  29980  201706302350  57.0  NaN  NaN    13.89\n"
     ]
    }
   ],
   "source": [
    "print(\"First values in June, Kumpula:\\n\", kumpula_june.head())\n",
    "print(\"\\nLast values in June, Kumpula:\\n\", kumpula_june.tail())"
   ]
  },
  {
   "cell_type": "code",
   "execution_count": 19,
   "metadata": {
    "deletable": false,
    "editable": false,
    "nbgrader": {
     "cell_type": "code",
     "checksum": "87ed00be6e41ac1056a4693a2a9c9c80",
     "grade": true,
     "grade_id": "problem_3_ag_p3_Rovaniemi_may_test",
     "locked": true,
     "points": 0.5,
     "schema_version": 3,
     "solution": false
    }
   },
   "outputs": [
    {
     "name": "stdout",
     "output_type": "stream",
     "text": [
      "First values in May, Rovaniemi:\n",
      "    Unnamed: 0   USAF  YR--MODAHRMN  TEMP  MAX  MIN  Celsius\n",
      "0        8770  29980  201705010000  37.0  NaN  NaN     2.78\n",
      "1        8771  29980  201705010100  37.0  NaN  NaN     2.78\n",
      "2        8772  29980  201705010200  37.0  NaN  NaN     2.78\n",
      "3        8773  29980  201705010300  37.0  NaN  NaN     2.78\n",
      "4        8774  29980  201705010400  39.0  NaN  NaN     3.89\n",
      "\n",
      "Last values in May, Rovaniemi:\n",
      "      Unnamed: 0   USAF  YR--MODAHRMN  TEMP  MAX  MIN  Celsius\n",
      "736        9506  29980  201705311900  51.0  NaN  NaN    10.56\n",
      "737        9507  29980  201705312000  50.0  NaN  NaN    10.00\n",
      "738        9508  29980  201705312100  47.0  NaN  NaN     8.33\n",
      "739        9509  29980  201705312200  44.0  NaN  NaN     6.67\n",
      "740        9510  29980  201705312300  43.0  NaN  NaN     6.11\n"
     ]
    }
   ],
   "source": [
    "print(\"First values in May, Rovaniemi:\\n\", rovaniemi_may.head())\n",
    "print(\"\\nLast values in May, Rovaniemi:\\n\", rovaniemi_may.tail())"
   ]
  },
  {
   "cell_type": "code",
   "execution_count": 20,
   "metadata": {
    "deletable": false,
    "editable": false,
    "nbgrader": {
     "cell_type": "code",
     "checksum": "1d8347f3054c5b3ee968fa04d5c6ee64",
     "grade": true,
     "grade_id": "problem_3_ag_p3_Rovaniemi_june_test",
     "locked": true,
     "points": 0.5,
     "schema_version": 3,
     "solution": false,
     "task": false
    }
   },
   "outputs": [
    {
     "name": "stdout",
     "output_type": "stream",
     "text": [
      "First values in June, Rovaniemi:\n",
      "      Unnamed: 0   USAF  YR--MODAHRMN  TEMP  MAX  MIN  Celsius\n",
      "741        9511  29980  201706010000  42.0  NaN  NaN     5.56\n",
      "742        9512  29980  201706010100  40.0  NaN  NaN     4.44\n",
      "743        9513  29980  201706010200  40.0  NaN  NaN     4.44\n",
      "744        9514  29980  201706010300  41.0  NaN  NaN     5.00\n",
      "745        9515  29980  201706010400  44.0  NaN  NaN     6.67\n",
      "\n",
      "Last values in June, Rovaniemi:\n",
      "       Unnamed: 0   USAF  YR--MODAHRMN  TEMP  MAX  MIN  Celsius\n",
      "1450       10220  29980  201706301900  65.0  NaN  NaN    18.33\n",
      "1451       10221  29980  201706302000  61.0  NaN  NaN    16.11\n",
      "1452       10222  29980  201706302100  63.0  NaN  NaN    17.22\n",
      "1453       10223  29980  201706302200  62.0  NaN  NaN    16.67\n",
      "1454       10224  29980  201706302300  61.0  NaN  NaN    16.11\n"
     ]
    }
   ],
   "source": [
    "print(\"First values in June, Rovaniemi:\\n\", rovaniemi_june.head())\n",
    "print(\"\\nLast values in June, Rovaniemi:\\n\", rovaniemi_june.tail())"
   ]
  },
  {
   "cell_type": "markdown",
   "metadata": {
    "deletable": false,
    "editable": false,
    "nbgrader": {
     "cell_type": "markdown",
     "checksum": "1cf68fffc5eafa68e70f9369a26c21a5",
     "grade": false,
     "grade_id": "cell-5d735e872f16ccd5",
     "locked": true,
     "schema_version": 3,
     "solution": false,
     "task": false
    }
   },
   "source": [
    "### Part 4 (*1 point*)\n",
    "\n",
    "Now you can make your temperature data from both locations and months easier to compare by printing out a few useful values.\n",
    "\n",
    "- Use the `print()` function to show the mean, min and max Celsius temperatures for both places in May and June using the new subset dataframes (`kumpula_may`, `rovaniemi_may`, `kumpula_june`, and `rovaniemi_june`)."
   ]
  },
  {
   "cell_type": "code",
   "execution_count": 23,
   "metadata": {
    "deletable": false,
    "nbgrader": {
     "cell_type": "code",
     "checksum": "12a6c95dd173d219530d35b72f81490f",
     "grade": true,
     "grade_id": "problem_3_mg_p4_May_and_June_stats",
     "locked": false,
     "points": 1,
     "schema_version": 3,
     "solution": true
    }
   },
   "outputs": [
    {
     "data": {
      "text/plain": [
       "count    2220.000000\n",
       "mean        2.991685\n",
       "std         3.824078\n",
       "min        -7.220000\n",
       "25%         0.000000\n",
       "50%         2.780000\n",
       "75%         5.560000\n",
       "max        15.000000\n",
       "Name: Celsius, dtype: float64"
      ]
     },
     "execution_count": 23,
     "metadata": {},
     "output_type": "execute_result"
    }
   ],
   "source": [
    "# YOUR CODE HERE\n",
    "kumpula_may['Celsius'].describe()"
   ]
  },
  {
   "cell_type": "code",
   "execution_count": 24,
   "metadata": {},
   "outputs": [
    {
     "data": {
      "text/plain": [
       "count    2127.000000\n",
       "mean       11.019412\n",
       "std         5.440638\n",
       "min        -1.110000\n",
       "25%         7.220000\n",
       "50%        11.110000\n",
       "75%        13.890000\n",
       "max        23.330000\n",
       "Name: Celsius, dtype: float64"
      ]
     },
     "execution_count": 24,
     "metadata": {},
     "output_type": "execute_result"
    }
   ],
   "source": [
    "kumpula_june['Celsius'].describe()"
   ]
  },
  {
   "cell_type": "code",
   "execution_count": 25,
   "metadata": {},
   "outputs": [
    {
     "data": {
      "text/plain": [
       "count    741.000000\n",
       "mean       9.757841\n",
       "std        4.996248\n",
       "min       -2.220000\n",
       "25%        6.670000\n",
       "50%       10.000000\n",
       "75%       13.330000\n",
       "max       22.780000\n",
       "Name: Celsius, dtype: float64"
      ]
     },
     "execution_count": 25,
     "metadata": {},
     "output_type": "execute_result"
    }
   ],
   "source": [
    "rovaniemi_may['Celsius'].describe()"
   ]
  },
  {
   "cell_type": "code",
   "execution_count": 26,
   "metadata": {},
   "outputs": [
    {
     "data": {
      "text/plain": [
       "count    714.000000\n",
       "mean      13.741737\n",
       "std        4.073298\n",
       "min        2.780000\n",
       "25%       11.110000\n",
       "50%       13.330000\n",
       "75%       16.670000\n",
       "max       23.890000\n",
       "Name: Celsius, dtype: float64"
      ]
     },
     "execution_count": 26,
     "metadata": {},
     "output_type": "execute_result"
    }
   ],
   "source": [
    "rovaniemi_june['Celsius'].describe()"
   ]
  },
  {
   "cell_type": "code",
   "execution_count": 30,
   "metadata": {},
   "outputs": [
    {
     "name": "stdout",
     "output_type": "stream",
     "text": [
      "The mean value of celsius temp for rovaniemi june is 13.74\n",
      "The min value of celsius temp for rovaniemi june is 2.78\n",
      "The max value for celsius temp for rovaniemi june is 23.89\n"
     ]
    }
   ],
   "source": [
    "print('The mean value of celsius temp for rovaniemi june is 13.74')\n",
    "print('The min value of celsius temp for rovaniemi june is 2.78')\n",
    "print('The max value for celsius temp for rovaniemi june is 23.89')"
   ]
  },
  {
   "cell_type": "markdown",
   "metadata": {
    "deletable": false,
    "editable": false,
    "nbgrader": {
     "cell_type": "markdown",
     "checksum": "c19a758e3ace532979854894a73433a0",
     "grade": false,
     "grade_id": "comments",
     "locked": true,
     "schema_version": 3,
     "solution": false
    }
   },
   "source": [
    "### Problem 3 summary\n",
    "\n",
    "In the spirit of [knowledge discovery](http://researcher.ibm.com/researcher/view_group.php?id=144), let's briefly interpret the results of the data analysis in Problem 3. Please answer the following questions based on the data analysis results from this problem:\n",
    "\n",
    "- Does there seem to be a large difference in temperatures between the months?\n",
    "- Is Rovaniemi a much colder place than Kumpula?\n",
    "\n",
    "Also, be sure to:\n",
    "\n",
    "- Check that your code includes informative comments explaining what your code does\n",
    "- Commit and push your changes to your GitHub repository for Exercise 5"
   ]
  },
  {
   "cell_type": "markdown",
   "metadata": {
    "deletable": false,
    "nbgrader": {
     "cell_type": "markdown",
     "checksum": "1f0848d8fe16e12f1951ccdd1b5edf83",
     "grade": true,
     "grade_id": "problem_3_mg_p5_questions",
     "locked": false,
     "points": 0,
     "schema_version": 3,
     "solution": true,
     "task": false
    }
   },
   "source": [
    "YOUR ANSWER HERE"
   ]
  },
  {
   "cell_type": "markdown",
   "metadata": {
    "deletable": false,
    "editable": false,
    "nbgrader": {
     "cell_type": "markdown",
     "checksum": "0e5f52b74f4ffaea57ca77ace2732647",
     "grade": false,
     "grade_id": "text",
     "locked": true,
     "schema_version": 3,
     "solution": false
    }
   },
   "source": [
    "### On to Problem 4 (*optional*)\n",
    "\n",
    "Now you can continue to the *optional* [Problem 4: Data analysis](Exercise-5-problem-4.ipynb)"
   ]
  }
 ],
 "metadata": {
  "anaconda-cloud": {},
  "kernelspec": {
   "display_name": "Python 3",
   "language": "python",
   "name": "python3"
  },
  "language_info": {
   "codemirror_mode": {
    "name": "ipython",
    "version": 3
   },
   "file_extension": ".py",
   "mimetype": "text/x-python",
   "name": "python",
   "nbconvert_exporter": "python",
   "pygments_lexer": "ipython3",
   "version": "3.8.3"
  }
 },
 "nbformat": 4,
 "nbformat_minor": 4
}
